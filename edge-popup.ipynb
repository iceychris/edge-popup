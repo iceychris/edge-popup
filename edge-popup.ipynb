{
 "cells": [
  {
   "cell_type": "markdown",
   "metadata": {},
   "source": [
    "# Edge-Popup\n",
    "\n",
    "Paper: [https://arxiv.org/abs/1911.13299](https://arxiv.org/abs/1911.13299)\n",
    "\n",
    "Code adapted from: [train_imagenette.py](https://github.com/fastai/fastai2/blob/master/nbs/examples/train_imagenette.py)"
   ]
  },
  {
   "cell_type": "code",
   "execution_count": null,
   "metadata": {},
   "outputs": [],
   "source": [
    "import matplotlib as mpl\n",
    "import matplotlib.pyplot as plt\n",
    "mpl.rcParams['figure.dpi'] = 300"
   ]
  },
  {
   "cell_type": "code",
   "execution_count": null,
   "metadata": {},
   "outputs": [],
   "source": [
    "import pickle\n",
    "\n",
    "import torch\n",
    "import torch.nn as nn\n",
    "import torch.nn.functional as F\n",
    "\n",
    "from fastai2.basics import *\n",
    "from fastai2.vision.all import *\n",
    "from fastai2.callback.all import *\n",
    "from fastai2.distributed import *\n",
    "from fastprogress import fastprogress\n",
    "from torchvision.models import *\n",
    "from fastai2.vision.models.xresnet import *\n",
    "from fastai2.callback.mixup import *\n",
    "from fastscript import *\n",
    "\n",
    "from lib.layers import Conv2dSubnet, LinearSubnet\n",
    "from lib.utils import adapt_model"
   ]
  },
  {
   "cell_type": "code",
   "execution_count": null,
   "metadata": {},
   "outputs": [],
   "source": [
    "def get_dbunch(size, woof, bs, sh=0., workers=None):\n",
    "    if size<=224: path = URLs.IMAGEWOOF_320 if woof else URLs.IMAGENETTE_320\n",
    "    else        : path = URLs.IMAGEWOOF     if woof else URLs.IMAGENETTE\n",
    "    source = untar_data(path)\n",
    "    if workers is None: workers = min(8, num_cpus())\n",
    "    dblock = DataBlock(blocks=(ImageBlock, CategoryBlock),\n",
    "                       splitter=GrandparentSplitter(valid_name='val'),\n",
    "                       get_items=get_image_files, get_y=parent_label)\n",
    "    item_tfms=[RandomResizedCrop(size, min_scale=0.35), FlipItem(0.5)]\n",
    "    batch_tfms=RandomErasing(p=0.3, max_count=3, sh=sh) if sh else None\n",
    "    return dblock.databunch(source, path=source, bs=bs, num_workers=workers,\n",
    "                            item_tfms=item_tfms, batch_tfms=batch_tfms)"
   ]
  },
  {
   "cell_type": "code",
   "execution_count": null,
   "metadata": {},
   "outputs": [],
   "source": [
    "def adapt_model_all(m, k=0.3):\n",
    "    ex = {'k': k}\n",
    "    adapt_model(m, orig=nn.Conv2d, new=Conv2dSubnet, extra_args=ex)\n",
    "    adapt_model(m, orig=nn.Linear, new=LinearSubnet, extra_args=ex)"
   ]
  },
  {
   "cell_type": "code",
   "execution_count": null,
   "metadata": {},
   "outputs": [],
   "source": [
    "def main(\n",
    "    gpu:   Param(\"GPU to run on\", int)=None,\n",
    "    woof:  Param(\"Use imagewoof (otherwise imagenette)\", int)=0,\n",
    "    lr:    Param(\"Learning rate\", float)=1e-2,\n",
    "    size:  Param(\"Size (px: 128,192,256)\", int)=128,\n",
    "    sqrmom:Param(\"sqr_mom\", float)=0.99,\n",
    "    mom:   Param(\"Momentum\", float)=0.9,\n",
    "    eps:   Param(\"epsilon\", float)=1e-6,\n",
    "    epochs:Param(\"Number of epochs\", int)=20,\n",
    "    bs:    Param(\"Batch size\", int)=64,\n",
    "    mixup: Param(\"Mixup\", float)=0.,\n",
    "    opt:   Param(\"Optimizer (adam,rms,sgd,ranger)\", str)='ranger',\n",
    "    arch:  Param(\"Architecture\", str)='xresnet50',\n",
    "    sh:    Param(\"Random erase max proportion\", float)=0.,\n",
    "    sa:    Param(\"Self-attention\", int)=0,\n",
    "    sym:   Param(\"Symmetry for self-attention\", int)=0,\n",
    "    beta:  Param(\"SAdam softplus beta\", float)=0.,\n",
    "    act_fn:Param(\"Activation function\", str)='MishJit',\n",
    "    fp16:  Param(\"Use mixed precision training\", int)=0,\n",
    "    pool:  Param(\"Pooling method\", str)='AvgPool',\n",
    "    dump:  Param(\"Print model; don't train\", int)=0,\n",
    "    runs:  Param(\"Number of times to repeat training\", int)=1,\n",
    "    sub:   Param(\"Use edge-popup subnets\", bool)=True,\n",
    "    subk:  Param(\"The k parameter for edge-popup\", float)=0.3,\n",
    "    meta:  Param(\"Metadata (ignored)\", str)=''\n",
    "):\n",
    "    \"Training of Imagenette.\"\n",
    "\n",
    "    #gpu = setup_distrib(gpu)\n",
    "    if gpu is not None: torch.cuda.set_device(gpu)\n",
    "    if   opt=='adam'  : opt_func = partial(Adam, mom=mom, sqr_mom=sqrmom, eps=eps)\n",
    "    elif opt=='rms'   : opt_func = partial(RMSprop, sqr_mom=sqrmom)\n",
    "    elif opt=='sgd'   : opt_func = partial(SGD, mom=mom)\n",
    "    elif opt=='ranger': opt_func = partial(ranger, mom=mom, sqr_mom=sqrmom, eps=eps, beta=beta)\n",
    "\n",
    "    dbunch = get_dbunch(size, woof, bs, sh=sh)\n",
    "    if not gpu: print(f'epochs: {epochs}; lr: {lr}; size: {size}; sqrmom: {sqrmom}; mom: {mom}; eps: {eps}')\n",
    "\n",
    "    mk_m,act_fn,pool = [globals()[o] for o in (arch,act_fn,pool)]\n",
    "\n",
    "    results = L()\n",
    "    for run in range(runs):\n",
    "        print(f'Run: {run}')\n",
    "        \n",
    "        # create and adapt model\n",
    "        m = mk_m(c_out=10, act_cls=act_fn, sa=sa, sym=sym, pool=pool)\n",
    "        if sub:\n",
    "            adapt_model_all(m, k=subk)\n",
    "        \n",
    "        learn = Learner(dbunch, m, opt_func=opt_func, \\\n",
    "                metrics=[accuracy,top_k_accuracy], loss_func=LabelSmoothingCrossEntropy())\n",
    "        if dump: print(learn.model); exit()\n",
    "        if fp16: learn = learn.to_fp16()\n",
    "        cbs = MixUp(mixup) if mixup else []\n",
    "        #n_gpu = torch.cuda.device_count()\n",
    "        #if gpu is None and n_gpu: learn.to_parallel()\n",
    "        if num_distrib()>1: learn.to_distributed(gpu) # Requires `-m fastai.launch`\n",
    "        learn.fit_flat_cos(epochs, lr, wd=1e-2, cbs=cbs)\n",
    "        results.append(learn.recorder.values)\n",
    "    return results"
   ]
  },
  {
   "cell_type": "code",
   "execution_count": null,
   "metadata": {},
   "outputs": [],
   "source": [
    "ks = np.arange(0.05, 1, 0.05)"
   ]
  },
  {
   "cell_type": "code",
   "execution_count": null,
   "metadata": {},
   "outputs": [],
   "source": [
    "d = {}\n",
    "for k in ks:\n",
    "    res = main(sub=True, woof=1, subk=k, epochs=10, arch=\"xresnet50\", runs=5)\n",
    "    d[k] = res"
   ]
  },
  {
   "cell_type": "code",
   "execution_count": null,
   "metadata": {},
   "outputs": [],
   "source": [
    "res = main(sub=False, woof=1, epochs=10, arch=\"xresnet50\", runs=3)"
   ]
  },
  {
   "cell_type": "code",
   "execution_count": null,
   "metadata": {},
   "outputs": [],
   "source": [
    "# mean & std over runs\n",
    "accs = []\n",
    "accs = res.map(lambda that_run: that_run[-1][2])\n",
    "one = (np.array(accs).mean() * 100, np.array(accs).std() * 100)"
   ]
  },
  {
   "cell_type": "code",
   "execution_count": null,
   "metadata": {},
   "outputs": [],
   "source": [
    "d = pickle.load(open('./save/ks5r10ep.pkl', 'rb'))"
   ]
  },
  {
   "cell_type": "code",
   "execution_count": null,
   "metadata": {},
   "outputs": [],
   "source": [
    "i_acc = 2\n",
    "i_last = -1 \n",
    "out = {} \n",
    "\n",
    "# all ks\n",
    "for k in ks:\n",
    "    \n",
    "    that_k = d[k]\n",
    "    \n",
    "    # mean & std over runs\n",
    "    accs = []\n",
    "    accs = that_k.map(lambda that_run: that_run[i_last][i_acc])\n",
    "    out[k] = (np.array(accs).mean(), np.array(accs).std())\n",
    "    \n",
    "p_ks = (np.array(L(out.keys())) * 100).astype(np.int)\n",
    "p_means = np.array(L(out.values()).map(lambda el: el[0])) * 100\n",
    "p_stds = np.array(L(out.values()).map(lambda el: el[1])) * 100\n",
    "p_lo = p_means - p_stds\n",
    "p_hi = p_means + p_stds\n",
    "plt.xlabel(\"% of Weights\")\n",
    "plt.ylabel(\"Accuracy\")\n",
    "plt.xlim(5, 95)\n",
    "plt.title(\"Mean over 5 runs à 10 epochs\")\n",
    "\n",
    "# trials\n",
    "plt.plot(p_ks, p_means[::-1], label=\"Weights ~ signed kaiming constant\")\n",
    "plt.fill_between(p_ks, p_lo[::-1], p_hi[::-1], alpha=0.2)\n",
    "\n",
    "# one\n",
    "plt.plot(p_ks, [one[0]]*len(p_ks), label=\"Learned Dense Weights (Adam)\")\n",
    "lo, hi = [one[0]-one[1]]*len(p_ks), [one[0]+one[1]]*len(p_ks)\n",
    "plt.fill_between(p_ks, lo, hi, alpha=0.2)\n",
    "\n",
    "plt.legend()\n",
    "plt.savefig(\"img/experiments/imagewoof_xresnet50_ks_10ep_5r.png\", dpi=200)"
   ]
  },
  {
   "cell_type": "code",
   "execution_count": null,
   "metadata": {},
   "outputs": [],
   "source": []
  }
 ],
 "metadata": {
  "kernelspec": {
   "display_name": "Python 3",
   "language": "python",
   "name": "python3"
  },
  "language_info": {
   "codemirror_mode": {
    "name": "ipython",
    "version": 3
   },
   "file_extension": ".py",
   "mimetype": "text/x-python",
   "name": "python",
   "nbconvert_exporter": "python",
   "pygments_lexer": "ipython3",
   "version": "3.7.3"
  }
 },
 "nbformat": 4,
 "nbformat_minor": 4
}
